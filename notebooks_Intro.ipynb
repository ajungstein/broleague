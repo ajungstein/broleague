{
  "metadata": {
    "kernelspec": {
      "name": "python",
      "display_name": "Python (Pyodide)",
      "language": "python"
    },
    "language_info": {
      "codemirror_mode": {
        "name": "python",
        "version": 3
      },
      "file_extension": ".py",
      "mimetype": "text/x-python",
      "name": "python",
      "nbconvert_exporter": "python",
      "pygments_lexer": "ipython3",
      "version": "3.8"
    }
  },
  "nbformat_minor": 5,
  "nbformat": 4,
  "cells": [
    {
      "cell_type": "code",
      "source": "import pandas as pd\nimport random",
      "metadata": {
        "trusted": true
      },
      "execution_count": 7,
      "outputs": [],
      "id": "d764139b-c929-4012-985f-2dc04feb8d11"
    },
    {
      "cell_type": "code",
      "source": "bros = [\"Jungstein\", \"Max\", \"Walker\", \"Knopf\", \"Joe\", \"Thomas\", \"Lacy\", \"Jon\", \"Conway\", \"Nick\"]\nprint(len(bros))\nbros",
      "metadata": {
        "trusted": true
      },
      "execution_count": 8,
      "outputs": [
        {
          "name": "stdout",
          "text": "10\n",
          "output_type": "stream"
        },
        {
          "execution_count": 8,
          "output_type": "execute_result",
          "data": {
            "text/plain": "['Jungstein',\n 'Max',\n 'Walker',\n 'Knopf',\n 'Joe',\n 'Thomas',\n 'Lacy',\n 'Jon',\n 'Conway',\n 'Nick']"
          },
          "metadata": {}
        }
      ],
      "id": "fed16fce-97e1-4bba-8fc7-08489bf158e8"
    },
    {
      "cell_type": "markdown",
      "source": "## Create matrixes for teams and people you have played against",
      "metadata": {},
      "id": "015c41e0-28ed-40f0-978f-811ab478c9f4"
    },
    {
      "cell_type": "code",
      "source": "def zero_out(df):\n    processed_bros = []\n    for _cnt, bro in enumerate(bros):\n        for other_bro in bros:\n            if bro == other_bro:# and other_bro not in processed_bros:\n                pass # null out or leave as null?\n                #df.loc[bro, other_bro] = \"#\n            else:\n                df.loc[bro, other_bro] = 0\n        processed_bros.append(bro)\n    return df\n\ndef init_matrix(name):\n    df_team = pd.DataFrame(columns=bros + [\"total\"], index=bros)\n    df_team.index.name = name\n    df_team.total = 0\n    df_team = zero_out(df_team)\n    return df_team\n    \ndef init_matches():\n    cols = [\"t1 p1\", \"t1 p2\", \" vs \", \"t2 p1\", \"t2 p2\", \"-->\", \"winning team\", \"win by\"]\n    df_matches = pd.DataFrame(columns=cols)\n    return df_matches\n\ndef generate():\n    df_team = init_matrix(\"team\")\n    df_against = init_matrix(\"against\")\n    df_matches = init_matches()\n    match_idx, last_team_num = initial_selection(df_matches, df_team, df_against)\n    return df_team, df_against, df_matches, match_idx, last_team_num\n\ndef update_against(df_against, df_matches, df_idx):\n    t1p1 = df_matches.loc[df_idx, \"t1 p1\"]\n    t1p2 = df_matches.loc[df_idx, \"t1 p2\"]\n    t2p1 = df_matches.loc[df_idx, \"t2 p1\"]\n    t2p2 = df_matches.loc[df_idx, \"t2 p2\"]\n    \n    print(f\"Updating against player={t1p1} vs {t2p1} & {t2p2}\")\n    \n    df_against.loc[t1p1, t2p1] = df_against.loc[t1p1, t2p1] + 1\n    df_against.loc[t1p1, t2p2] = df_against.loc[t1p1, t2p2] + 1\n    df_against.loc[t2p1, t1p1] = df_against.loc[t2p1, t1p1] + 1\n    df_against.loc[t2p2, t1p1] = df_against.loc[t2p2, t1p1] + 1\n\n    df_against.loc[t1p2, t2p1] = df_against.loc[t1p2, t2p1] + 1\n    df_against.loc[t1p2, t2p2] = df_against.loc[t1p2, t2p2] + 1\n    df_against.loc[t2p1, t1p2] = df_against.loc[t2p1, t1p2] + 1\n    df_against.loc[t2p2, t1p2] = df_against.loc[t2p2, t1p2] + 1\n    \n\ndef update_team(df_team, current_team):\n    bro1, bro2 = current_team[0], current_team[1]\n    print(f\"Adding team: {bro1} and {bro2}\")\n    df_team.loc[bro1, bro2] = df_team.loc[bro1, bro2] + 1\n    df_team.loc[bro2, bro1] = df_team.loc[bro2, bro1] + 1    \n    return []\n\n\n\n# for first run populate all bros\ndef initial_selection(df_matches, df_team, df_against):\n    if not df_matches.empty:\n        return df_matches    \n    bros_remaining = bros.copy()    \n    import random    \n    \n    \n    match_idx = 0\n    last_team_num = 1\n    \n    current_team = []\n    while bros_remaining:                \n        for player_idx in [0, 1, 3, 4]:\n            bro_to_add = bros_remaining.pop(random.randint(0, len(bros_remaining)-1))\n            df_matches.loc[match_idx, df_matches.columns[player_idx]] = bro_to_add                        \n            current_team.append(bro_to_add)            \n            if player_idx in [1, 4]:\n                current_team = update_team(df_team, current_team)                    \n            if player_idx == 4:\n                last_team_num = 2\n                # full team\n                update_against(df_against, df_matches, match_idx)\n                match_idx += 1       \n            elif player_idx == 1:\n                last_team_num = 1\n            \n            if not bros_remaining:\n                break        \n        \n        \n    \n    df_team[\"total\"] = df_team[df_team.columns[:-1]].sum()\n    df_against[\"total\"] = df_against[df_against.columns[:-1]].sum()\n    \n    df_matches.loc[:, \" vs \"] = \"\"\n    df_matches.loc[:, \"-->\"] = \"\"\n    \n    # effectively row and set of columns\n    return match_idx, last_team_num\n",
      "metadata": {
        "trusted": true
      },
      "execution_count": 47,
      "outputs": [],
      "id": "d99070c8-167f-4c25-b944-b989ca91a88d"
    },
    {
      "cell_type": "code",
      "source": "def get_players_minimize_teams(player):\n    ser_next_team = df_team.loc[player].dropna()\n    ser_next_team = ser_next_team.loc[ser_next_team.min() == ser_next_team]\n    return set(ser_next_team.index)\n\ndef get_players_minimize_matches(df_team):\n    return set(df_team.loc[df_team.total.min() == df_team.total].index)\n\n    \ndef make_algorithmic_selection(df_matches, last_team_num, match_idx):\n    # next selection\n    p1_col = \"t2 p1\" if last_team_num == 1 else \"t1 p1\"\n    p2_col = \"t2 p2\" if last_team_num == 1 else \"t1 p2\"\n    if last_team_num == 1:\n        # select team 2 by first tracking opponents\n        p1_against = df_matches.loc[match_idx, \"t1 p1\"]\n        p2_against = df_matches.loc[match_idx, \"t1 p2\"]\n        ser_against_1 = df_against.loc[p1_against].dropna()    \n        ser_against_2 = df_against.loc[p2_against].dropna()    \n        #print(f\"Against_1=[{p1_against}, {ser_against_1.min()}], Against_2=[{p2_against}, {ser_against_2.min()}]\")\n        avail_bros_1 = set(ser_against_1[:-1].loc[ser_against_1 == ser_against_1.min()].index)\n        avail_bros_2 = set(ser_against_2[:-1].loc[ser_against_2 == ser_against_2.min()].index)\n        avail_bros = list((avail_bros_1 & avail_bros_2) & get_players_minimize_matches(df_team))\n        #print(f\"Available bros after filtering on min: {len(avail_bros_1)}, {len(avail_bros_2)}, set={len(avail_bros)}\")\n\n        # setting this one based on \n        if not avail_bros:\n            avail_bros = list(get_players_minimize_matches(df_team))\n            \n        first_player = avail_bros.pop(random.randint(0, len(avail_bros)-1))\n        df_matches.loc[match_idx, p1_col] = first_player        \n        \n        # set second by minimizing teammates and also avail bros\n        avail_bros = list(set(avail_bros) & get_players_minimize_teams(first_player))\n        \n        if not avail_bros:\n            avail_bros = list(get_players_minimize_matches(df_team))\n            \n            \n        second_player = avail_bros.pop(random.randint(0, len(avail_bros)-1))\n        df_matches.loc[match_idx, p2_col] = second_player\n        \n        # update teams\n        df_team.loc[first_player, second_player] = df_team.loc[first_player, second_player] + 1\n        df_team.loc[second_player, first_player] = df_team.loc[second_player, first_player] + 1\n        df_team[\"total\"] = df_team[df_team.columns[:-1]].sum()\n        \n        # update against\n        update_against(df_against, df_matches, match_idx)\n        df_against[\"total\"] = df_against[df_against.columns[:-1]].sum()\n        \n        \n        #p1 = avail_bros.pop(\n        \n        return match_idx + 1, 2\n    else:\n        \n        # select team 1\n        # p1 - player with fewer matches\n        avail_min_matches = list(get_players_minimize_matches(df_team))\n        \n        first_player = avail_min_matches.pop(random.randint(0, len(avail_min_matches)-1))        \n        df_matches.loc[match_idx, p1_col] = first_player\n        \n        \n\n        avail_players = list(set(avail_min_matches) & get_players_minimize_teams(first_player))\n        \n        \n        second_player = avail_players.pop(random.randint(0, len(avail_players)-1))\n        df_matches.loc[match_idx, p2_col] = second_player\n\n        df_team.loc[first_player, second_player] = df_team.loc[first_player, second_player] + 1\n        df_team.loc[second_player, first_player] = df_team.loc[second_player, first_player] + 1\n        df_team[\"total\"] = df_team[df_team.columns[:-1]].sum()\n\n        return match_idx, 1\n        #raise NotImplementedError()\n\n",
      "metadata": {
        "trusted": true
      },
      "execution_count": 124,
      "outputs": [],
      "id": "ab62c833-c5a0-48c8-803c-4a64b6ea0c19"
    },
    {
      "cell_type": "code",
      "source": "df_team, df_against, df_matches, match_idx, last_team_num = generate()\nwhile 1==1:\n    match_idx, last_team_num = make_algorithmic_selection(df_matches, last_team_num, match_idx)\n    if match_idx == 10:\n        break\ndf_matches.loc[:, \" vs \"] = \"\"\ndf_matches.loc[:, \"-->\"] = \"\"\ndf_team[\"total\"] = df_team[df_team.columns[:-1]].sum()\ndf_against[\"total\"] = df_against[df_against.columns[:-1]].sum()\ndf_matches[df_matches.columns[:5]]",
      "metadata": {
        "trusted": true
      },
      "execution_count": 134,
      "outputs": [
        {
          "name": "stdout",
          "text": "Adding team: Nick and Lacy\nAdding team: Conway and Walker\nUpdating against player=Nick vs Conway & Walker\nAdding team: Joe and Max\nAdding team: Knopf and Thomas\nUpdating against player=Joe vs Knopf & Thomas\nAdding team: Jon and Jungstein\nUpdating against player=Jon vs Joe & Walker\nUpdating against player=Nick vs Knopf & Max\nUpdating against player=Jon vs Thomas & Thomas\nUpdating against player=Conway vs Jungstein & Walker\nUpdating against player=Thomas vs Knopf & Nick\nUpdating against player=Conway vs Max & Joe\nUpdating against player=Nick vs Joe & Conway\nUpdating against player=Thomas vs Knopf & Jon\n",
          "output_type": "stream"
        },
        {
          "execution_count": 134,
          "output_type": "execute_result",
          "data": {
            "text/plain": "    t1 p1      t1 p2  vs       t2 p1   t2 p2\n0    Nick       Lacy          Conway  Walker\n1     Joe        Max           Knopf  Thomas\n2     Jon  Jungstein             Joe  Walker\n3    Nick  Jungstein           Knopf     Max\n4     Jon       Lacy          Thomas  Thomas\n5  Conway     Thomas       Jungstein  Walker\n6  Thomas        Jon           Knopf    Nick\n7  Conway       Lacy             Max     Joe\n8    Nick        Max             Joe  Conway\n9  Thomas       Lacy           Knopf     Jon",
            "text/html": "<div>\n<style scoped>\n    .dataframe tbody tr th:only-of-type {\n        vertical-align: middle;\n    }\n\n    .dataframe tbody tr th {\n        vertical-align: top;\n    }\n\n    .dataframe thead th {\n        text-align: right;\n    }\n</style>\n<table border=\"1\" class=\"dataframe\">\n  <thead>\n    <tr style=\"text-align: right;\">\n      <th></th>\n      <th>t1 p1</th>\n      <th>t1 p2</th>\n      <th>vs</th>\n      <th>t2 p1</th>\n      <th>t2 p2</th>\n    </tr>\n  </thead>\n  <tbody>\n    <tr>\n      <th>0</th>\n      <td>Nick</td>\n      <td>Lacy</td>\n      <td></td>\n      <td>Conway</td>\n      <td>Walker</td>\n    </tr>\n    <tr>\n      <th>1</th>\n      <td>Joe</td>\n      <td>Max</td>\n      <td></td>\n      <td>Knopf</td>\n      <td>Thomas</td>\n    </tr>\n    <tr>\n      <th>2</th>\n      <td>Jon</td>\n      <td>Jungstein</td>\n      <td></td>\n      <td>Joe</td>\n      <td>Walker</td>\n    </tr>\n    <tr>\n      <th>3</th>\n      <td>Nick</td>\n      <td>Jungstein</td>\n      <td></td>\n      <td>Knopf</td>\n      <td>Max</td>\n    </tr>\n    <tr>\n      <th>4</th>\n      <td>Jon</td>\n      <td>Lacy</td>\n      <td></td>\n      <td>Thomas</td>\n      <td>Thomas</td>\n    </tr>\n    <tr>\n      <th>5</th>\n      <td>Conway</td>\n      <td>Thomas</td>\n      <td></td>\n      <td>Jungstein</td>\n      <td>Walker</td>\n    </tr>\n    <tr>\n      <th>6</th>\n      <td>Thomas</td>\n      <td>Jon</td>\n      <td></td>\n      <td>Knopf</td>\n      <td>Nick</td>\n    </tr>\n    <tr>\n      <th>7</th>\n      <td>Conway</td>\n      <td>Lacy</td>\n      <td></td>\n      <td>Max</td>\n      <td>Joe</td>\n    </tr>\n    <tr>\n      <th>8</th>\n      <td>Nick</td>\n      <td>Max</td>\n      <td></td>\n      <td>Joe</td>\n      <td>Conway</td>\n    </tr>\n    <tr>\n      <th>9</th>\n      <td>Thomas</td>\n      <td>Lacy</td>\n      <td></td>\n      <td>Knopf</td>\n      <td>Jon</td>\n    </tr>\n  </tbody>\n</table>\n</div>"
          },
          "metadata": {}
        }
      ],
      "id": "06d03225-b67e-4473-8db3-3021ac8f41bb"
    },
    {
      "cell_type": "code",
      "source": "df_team",
      "metadata": {
        "trusted": true
      },
      "execution_count": 135,
      "outputs": [
        {
          "execution_count": 135,
          "output_type": "execute_result",
          "data": {
            "text/plain": "          Jungstein  Max Walker Knopf  Joe Thomas Lacy  Jon Conway Nick total\nteam                                                                         \nJungstein       NaN    0      1     0    0      0    0    1      0    1     3\nMax               0  NaN      0     1    2      0    0    0      0    1     4\nWalker            1    0    NaN     0    1      0    0    0      1    0     3\nKnopf             0    1      0   NaN    0      1    0    1      0    1     4\nJoe               0    2      1     0  NaN      0    0    0      1    0     4\nThomas            0    0      0     1    0    NaN    1    1      1    0     4\nLacy              0    0      0     0    0      1  NaN    1      1    1     4\nJon               1    0      0     1    0      1    1  NaN      0    0     4\nConway            0    0      1     0    1      1    1    0    NaN    0     4\nNick              1    1      0     1    0      0    1    0      0  NaN     4",
            "text/html": "<div>\n<style scoped>\n    .dataframe tbody tr th:only-of-type {\n        vertical-align: middle;\n    }\n\n    .dataframe tbody tr th {\n        vertical-align: top;\n    }\n\n    .dataframe thead th {\n        text-align: right;\n    }\n</style>\n<table border=\"1\" class=\"dataframe\">\n  <thead>\n    <tr style=\"text-align: right;\">\n      <th></th>\n      <th>Jungstein</th>\n      <th>Max</th>\n      <th>Walker</th>\n      <th>Knopf</th>\n      <th>Joe</th>\n      <th>Thomas</th>\n      <th>Lacy</th>\n      <th>Jon</th>\n      <th>Conway</th>\n      <th>Nick</th>\n      <th>total</th>\n    </tr>\n    <tr>\n      <th>team</th>\n      <th></th>\n      <th></th>\n      <th></th>\n      <th></th>\n      <th></th>\n      <th></th>\n      <th></th>\n      <th></th>\n      <th></th>\n      <th></th>\n      <th></th>\n    </tr>\n  </thead>\n  <tbody>\n    <tr>\n      <th>Jungstein</th>\n      <td>NaN</td>\n      <td>0</td>\n      <td>1</td>\n      <td>0</td>\n      <td>0</td>\n      <td>0</td>\n      <td>0</td>\n      <td>1</td>\n      <td>0</td>\n      <td>1</td>\n      <td>3</td>\n    </tr>\n    <tr>\n      <th>Max</th>\n      <td>0</td>\n      <td>NaN</td>\n      <td>0</td>\n      <td>1</td>\n      <td>2</td>\n      <td>0</td>\n      <td>0</td>\n      <td>0</td>\n      <td>0</td>\n      <td>1</td>\n      <td>4</td>\n    </tr>\n    <tr>\n      <th>Walker</th>\n      <td>1</td>\n      <td>0</td>\n      <td>NaN</td>\n      <td>0</td>\n      <td>1</td>\n      <td>0</td>\n      <td>0</td>\n      <td>0</td>\n      <td>1</td>\n      <td>0</td>\n      <td>3</td>\n    </tr>\n    <tr>\n      <th>Knopf</th>\n      <td>0</td>\n      <td>1</td>\n      <td>0</td>\n      <td>NaN</td>\n      <td>0</td>\n      <td>1</td>\n      <td>0</td>\n      <td>1</td>\n      <td>0</td>\n      <td>1</td>\n      <td>4</td>\n    </tr>\n    <tr>\n      <th>Joe</th>\n      <td>0</td>\n      <td>2</td>\n      <td>1</td>\n      <td>0</td>\n      <td>NaN</td>\n      <td>0</td>\n      <td>0</td>\n      <td>0</td>\n      <td>1</td>\n      <td>0</td>\n      <td>4</td>\n    </tr>\n    <tr>\n      <th>Thomas</th>\n      <td>0</td>\n      <td>0</td>\n      <td>0</td>\n      <td>1</td>\n      <td>0</td>\n      <td>NaN</td>\n      <td>1</td>\n      <td>1</td>\n      <td>1</td>\n      <td>0</td>\n      <td>4</td>\n    </tr>\n    <tr>\n      <th>Lacy</th>\n      <td>0</td>\n      <td>0</td>\n      <td>0</td>\n      <td>0</td>\n      <td>0</td>\n      <td>1</td>\n      <td>NaN</td>\n      <td>1</td>\n      <td>1</td>\n      <td>1</td>\n      <td>4</td>\n    </tr>\n    <tr>\n      <th>Jon</th>\n      <td>1</td>\n      <td>0</td>\n      <td>0</td>\n      <td>1</td>\n      <td>0</td>\n      <td>1</td>\n      <td>1</td>\n      <td>NaN</td>\n      <td>0</td>\n      <td>0</td>\n      <td>4</td>\n    </tr>\n    <tr>\n      <th>Conway</th>\n      <td>0</td>\n      <td>0</td>\n      <td>1</td>\n      <td>0</td>\n      <td>1</td>\n      <td>1</td>\n      <td>1</td>\n      <td>0</td>\n      <td>NaN</td>\n      <td>0</td>\n      <td>4</td>\n    </tr>\n    <tr>\n      <th>Nick</th>\n      <td>1</td>\n      <td>1</td>\n      <td>0</td>\n      <td>1</td>\n      <td>0</td>\n      <td>0</td>\n      <td>1</td>\n      <td>0</td>\n      <td>0</td>\n      <td>NaN</td>\n      <td>4</td>\n    </tr>\n  </tbody>\n</table>\n</div>"
          },
          "metadata": {}
        }
      ],
      "id": "da2bb001-1e53-4fcf-84af-b62ea4ed8c43"
    },
    {
      "cell_type": "code",
      "source": "df_against",
      "metadata": {
        "trusted": true
      },
      "execution_count": 136,
      "outputs": [
        {
          "execution_count": 136,
          "output_type": "execute_result",
          "data": {
            "text/plain": "          Jungstein  Max Walker Knopf  Joe Thomas Lacy  Jon Conway Nick total\nagainst                                                                      \nJungstein       NaN    1      1     1    1      1    0    0      1    0     6\nMax               1  NaN      0     1    1      1    1    0      2    1     8\nWalker            1    0    NaN     0    0      1    1    1      1    1     6\nKnopf             1    1      0   NaN    1      2    1    1      0    1     8\nJoe               1    1      0     1  NaN      1    1    1      1    1     8\nThomas            1    1      1     2    1    NaN    2    3      0    1    12\nLacy              0    1      1     1    1      2  NaN    1      1    0     8\nJon               0    0      1     1    1      3    1  NaN      0    1     8\nConway            1    2      1     0    1      0    1    0    NaN    2     8\nNick              0    1      1     1    1      1    0    1      2  NaN     8",
            "text/html": "<div>\n<style scoped>\n    .dataframe tbody tr th:only-of-type {\n        vertical-align: middle;\n    }\n\n    .dataframe tbody tr th {\n        vertical-align: top;\n    }\n\n    .dataframe thead th {\n        text-align: right;\n    }\n</style>\n<table border=\"1\" class=\"dataframe\">\n  <thead>\n    <tr style=\"text-align: right;\">\n      <th></th>\n      <th>Jungstein</th>\n      <th>Max</th>\n      <th>Walker</th>\n      <th>Knopf</th>\n      <th>Joe</th>\n      <th>Thomas</th>\n      <th>Lacy</th>\n      <th>Jon</th>\n      <th>Conway</th>\n      <th>Nick</th>\n      <th>total</th>\n    </tr>\n    <tr>\n      <th>against</th>\n      <th></th>\n      <th></th>\n      <th></th>\n      <th></th>\n      <th></th>\n      <th></th>\n      <th></th>\n      <th></th>\n      <th></th>\n      <th></th>\n      <th></th>\n    </tr>\n  </thead>\n  <tbody>\n    <tr>\n      <th>Jungstein</th>\n      <td>NaN</td>\n      <td>1</td>\n      <td>1</td>\n      <td>1</td>\n      <td>1</td>\n      <td>1</td>\n      <td>0</td>\n      <td>0</td>\n      <td>1</td>\n      <td>0</td>\n      <td>6</td>\n    </tr>\n    <tr>\n      <th>Max</th>\n      <td>1</td>\n      <td>NaN</td>\n      <td>0</td>\n      <td>1</td>\n      <td>1</td>\n      <td>1</td>\n      <td>1</td>\n      <td>0</td>\n      <td>2</td>\n      <td>1</td>\n      <td>8</td>\n    </tr>\n    <tr>\n      <th>Walker</th>\n      <td>1</td>\n      <td>0</td>\n      <td>NaN</td>\n      <td>0</td>\n      <td>0</td>\n      <td>1</td>\n      <td>1</td>\n      <td>1</td>\n      <td>1</td>\n      <td>1</td>\n      <td>6</td>\n    </tr>\n    <tr>\n      <th>Knopf</th>\n      <td>1</td>\n      <td>1</td>\n      <td>0</td>\n      <td>NaN</td>\n      <td>1</td>\n      <td>2</td>\n      <td>1</td>\n      <td>1</td>\n      <td>0</td>\n      <td>1</td>\n      <td>8</td>\n    </tr>\n    <tr>\n      <th>Joe</th>\n      <td>1</td>\n      <td>1</td>\n      <td>0</td>\n      <td>1</td>\n      <td>NaN</td>\n      <td>1</td>\n      <td>1</td>\n      <td>1</td>\n      <td>1</td>\n      <td>1</td>\n      <td>8</td>\n    </tr>\n    <tr>\n      <th>Thomas</th>\n      <td>1</td>\n      <td>1</td>\n      <td>1</td>\n      <td>2</td>\n      <td>1</td>\n      <td>NaN</td>\n      <td>2</td>\n      <td>3</td>\n      <td>0</td>\n      <td>1</td>\n      <td>12</td>\n    </tr>\n    <tr>\n      <th>Lacy</th>\n      <td>0</td>\n      <td>1</td>\n      <td>1</td>\n      <td>1</td>\n      <td>1</td>\n      <td>2</td>\n      <td>NaN</td>\n      <td>1</td>\n      <td>1</td>\n      <td>0</td>\n      <td>8</td>\n    </tr>\n    <tr>\n      <th>Jon</th>\n      <td>0</td>\n      <td>0</td>\n      <td>1</td>\n      <td>1</td>\n      <td>1</td>\n      <td>3</td>\n      <td>1</td>\n      <td>NaN</td>\n      <td>0</td>\n      <td>1</td>\n      <td>8</td>\n    </tr>\n    <tr>\n      <th>Conway</th>\n      <td>1</td>\n      <td>2</td>\n      <td>1</td>\n      <td>0</td>\n      <td>1</td>\n      <td>0</td>\n      <td>1</td>\n      <td>0</td>\n      <td>NaN</td>\n      <td>2</td>\n      <td>8</td>\n    </tr>\n    <tr>\n      <th>Nick</th>\n      <td>0</td>\n      <td>1</td>\n      <td>1</td>\n      <td>1</td>\n      <td>1</td>\n      <td>1</td>\n      <td>0</td>\n      <td>1</td>\n      <td>2</td>\n      <td>NaN</td>\n      <td>8</td>\n    </tr>\n  </tbody>\n</table>\n</div>"
          },
          "metadata": {}
        }
      ],
      "id": "aceb62da-81b4-49b1-a66b-1e03d40ab6f0"
    },
    {
      "cell_type": "code",
      "source": "",
      "metadata": {},
      "execution_count": null,
      "outputs": [],
      "id": "ce548e4e-f5f0-4ddc-855c-8f9d7943f823"
    }
  ]
}